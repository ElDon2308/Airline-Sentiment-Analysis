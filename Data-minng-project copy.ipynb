{
 "cells": [
  {
   "cell_type": "code",
   "execution_count": null,
   "metadata": {},
   "outputs": [],
   "source": [
    "#importing the needed libraries\n",
    "\n",
    "%matplotlib inline\n",
    "import numpy as np\n",
    "import pandas as pd\n",
    "import matplotlib.pyplot as plt\n",
    "import seaborn as sns\n"
   ]
  },
  {
   "cell_type": "code",
   "execution_count": null,
   "metadata": {},
   "outputs": [],
   "source": [
    "#reading/opening the csv file so work can be done on it\n",
    "tweetsDf= pd.read_csv('Tweets.csv')"
   ]
  },
  {
   "cell_type": "code",
   "execution_count": null,
   "metadata": {},
   "outputs": [],
   "source": [
    "#shows all the columns in the data pre pre data cleaning\n",
    "tweetsDf.columns"
   ]
  },
  {
   "cell_type": "code",
   "execution_count": null,
   "metadata": {},
   "outputs": [],
   "source": [
    "#shows the first five rows of the untouched data\n",
    "tweetsDf.head()"
   ]
  },
  {
   "cell_type": "code",
   "execution_count": null,
   "metadata": {},
   "outputs": [],
   "source": [
    "#We are now filtering the data and selecting the 'airline_sentiment' columns and getting the unique counts for each sentiment\n",
    "negativeReason = tweetsDf['airline_sentiment'].value_counts()\n",
    "#plotting the histogram\n",
    "negativeReason.plot(kind='bar')\n",
    "#Giving it a title\n",
    "plt.title('Flight sentiments')\n",
    "#label for the x-axis\n",
    "plt.xlabel('How was the flight?')\n",
    "#label for the y axis\n",
    "plt.ylabel('Number of Tweets')\n",
    "#Showing the plotted graph\n",
    "plt.show()"
   ]
  },
  {
   "cell_type": "code",
   "execution_count": null,
   "metadata": {},
   "outputs": [],
   "source": [
    "#selecting ONLY the negative sentiments by airline\n",
    "tweetsDf=tweetsDf[tweetsDf['airline_sentiment']== 'negative']"
   ]
  },
  {
   "cell_type": "code",
   "execution_count": null,
   "metadata": {},
   "outputs": [],
   "source": [
    "#grouping the alines and their sentiments and t and visualizing them\n",
    "grouped = tweetsDf.groupby(['airline', 'airline_sentiment']).size().unstack()\n",
    "\n",
    "fig = plt.figure(figsize = (20,40))\n",
    "grouped.plot(kind='bar', stacked=True)\n",
    "plt.title('Airline Sentiment by Airline')\n",
    "plt.xlabel('Airline')\n",
    "plt.ylabel('Number of Tweets')\n",
    "plt.show()"
   ]
  },
  {
   "cell_type": "code",
   "execution_count": null,
   "metadata": {},
   "outputs": [],
   "source": [
    "# group data by negative reason and compute median confidence\n",
    "grouped_data = tweetsDf.groupby('negativereason')['negativereason_confidence'].median()\n",
    "\n",
    "# create scatter plot\n",
    "plt.scatter(grouped_data.index, grouped_data, c='red')\n",
    "plt.xticks(rotation=90)\n",
    "plt.xlabel('Negative Reason')\n",
    "plt.ylabel('Mean Confidence')\n",
    "plt.title('Negative Reasons vs Mean Confidence')\n",
    "plt.show()"
   ]
  },
  {
   "cell_type": "code",
   "execution_count": null,
   "metadata": {},
   "outputs": [],
   "source": [
    "tweetsDf = tweetsDf.drop('airline_sentiment_gold', axis =1)\n",
    "tweetsDf = tweetsDf.drop('name', axis =1)\n",
    "tweetsDf = tweetsDf.drop('negativereason_gold', axis =1)\n",
    "tweetsDf = tweetsDf.drop('retweet_count', axis =1)\n",
    "tweetsDf = tweetsDf.drop('text', axis =1)\n",
    "tweetsDf = tweetsDf.drop('tweet_coord', axis =1)\n",
    "tweetsDf = tweetsDf.drop('tweet_created', axis =1)\n",
    "tweetsDf = tweetsDf.drop('tweet_location', axis =1)\n",
    "tweetsDf = tweetsDf.drop('user_timezone', axis =1)\n",
    "tweetsDf = tweetsDf.drop('tweet_id', axis =1)"
   ]
  },
  {
   "cell_type": "code",
   "execution_count": null,
   "metadata": {},
   "outputs": [],
   "source": [
    "mask = tweetsDf['negativereason'].str.contains(\"Can't Tell\", na=False)\n",
    "print(len(tweetsDf[mask]), 'rows dropped')\n",
    "tweetsDf = tweetsDf.drop(tweetsDf[mask].index)"
   ]
  },
  {
   "cell_type": "code",
   "execution_count": null,
   "metadata": {},
   "outputs": [],
   "source": [
    "tweetsDf.head(10)"
   ]
  },
  {
   "cell_type": "code",
   "execution_count": null,
   "metadata": {},
   "outputs": [],
   "source": [
    "print(tweetsDf.isnull().sum())\n",
    "\n",
    "# Check for empty spaces\n",
    "for col in tweetsDf.columns:\n",
    "    if tweetsDf[col].dtype == object:\n",
    "        print(f\"{col}: {tweetsDf[col].str.isspace().sum()}\")"
   ]
  },
  {
   "cell_type": "code",
   "execution_count": null,
   "metadata": {},
   "outputs": [],
   "source": [
    "bin = [0, 0.2, 0.4, 0.6, 0.9, 1]\n",
    "\n",
    "tweetsDf['Airline_Conf_Bucket']= pd.cut(tweetsDf['airline_sentiment_confidence'], bin)\n",
    "\n",
    "print('Airline_Conf_Bucket:\\n',(tweetsDf['Airline_Conf_Bucket']).head())"
   ]
  },
  {
   "cell_type": "code",
   "execution_count": null,
   "metadata": {},
   "outputs": [],
   "source": [
    "bin = [0, 0.1, 0.2, 0.3, 0.4, 0.5, 0.6, 0.7, 0.8, 0.9, 1]\n",
    "\n",
    "tweetsDf['NegReason_Conf_Bucket']= pd.cut(tweetsDf['negativereason_confidence'], bin)\n",
    "\n",
    "print('NegReason_Conf_Bucket:\\n',(tweetsDf['NegReason_Conf_Bucket']).head())"
   ]
  },
  {
   "cell_type": "code",
   "execution_count": null,
   "metadata": {},
   "outputs": [],
   "source": [
    "# group data by negative reason and compute median confidence(Post Col drops)\n",
    "grouped_data = tweetsDf.groupby('negativereason')['negativereason_confidence'].median()\n",
    "\n",
    "# create scatter plot\n",
    "plt.scatter(grouped_data.index, grouped_data, c='red')\n",
    "plt.xticks(rotation=90)\n",
    "plt.xlabel('Negative Reason')\n",
    "plt.ylabel('Mean Confidence')\n",
    "plt.title('Negative Reasons vs Mean Confidence')\n",
    "plt.show()"
   ]
  },
  {
   "cell_type": "code",
   "execution_count": null,
   "metadata": {},
   "outputs": [],
   "source": [
    "tweetsDf=tweetsDf[tweetsDf['airline_sentiment_confidence'] > .5]\n",
    "grouped= tweetsDf.groupby(['airline','airline_sentiment' ]).size().unstack()\n",
    "\n",
    "fig = plt.figure(figsize = (20,40))\n",
    "grouped.plot(kind='bar', stacked=False,)\n",
    "plt.title('Airline Sentiment Confidence by Airline')\n",
    "plt.xlabel('Airline')\n",
    "plt.ylabel('Confidence Value')\n",
    "plt.show()"
   ]
  },
  {
   "cell_type": "code",
   "execution_count": null,
   "metadata": {},
   "outputs": [],
   "source": [
    "tweetsDf=tweetsDf[tweetsDf['negativereason_confidence'] > .5]\n",
    "grouped= tweetsDf.groupby(['airline','negativereason' ]).size().unstack()\n",
    "\n",
    "fig = plt.figure(figsize = (20,40))\n",
    "grouped.plot(kind='bar', stacked=False)\n",
    "plt.legend(loc='center left', bbox_to_anchor=(1, 0.5),fontsize=10)\n",
    "plt.title('Tweet Sentiment Confidence by Airline')\n",
    "plt.xlabel('Airline')\n",
    "plt.ylabel('Confidence Value')\n",
    "plt.show()"
   ]
  },
  {
   "attachments": {},
   "cell_type": "markdown",
   "metadata": {},
   "source": [
    "4. start presentation work\n",
    "5.go straight into alg (TBD)"
   ]
  },
  {
   "cell_type": "code",
   "execution_count": null,
   "metadata": {},
   "outputs": [],
   "source": [
    "# filter dataframe to only include rows with specific airlines\n",
    "airlines = ['Delta', 'United', 'American']\n",
    "filtered_df = tweetsDf[tweetsDf['airline'].isin(airlines)]\n",
    "\n",
    "# create a figure with one subplot for each airline\n",
    "fig, axs = plt.subplots(1, len(airlines), figsize=(8 * len(airlines), 8))\n",
    "\n",
    "# adjust spacing between subplots\n",
    "fig.subplots_adjust(wspace=0.5)\n",
    "\n",
    "# create a pie chart for each airline\n",
    "for i, airline in enumerate(airlines):\n",
    "    # filter data for the current airline\n",
    "    airline_data = filtered_df[filtered_df['airline'] == airline]\n",
    "    \n",
    "    # group by negativereason\n",
    "    grouped_data = airline_data.groupby('negativereason').size()\n",
    "    \n",
    "    # plot pie chart\n",
    "    axs[i].pie(grouped_data, labels=grouped_data.index, autopct='%1.1f%%')\n",
    "    axs[i].set_title(f'Distribution of negative reasons for {airline}')\n",
    "\n",
    "plt.show()"
   ]
  },
  {
   "cell_type": "code",
   "execution_count": null,
   "metadata": {},
   "outputs": [],
   "source": [
    "# filter dataframe to only include rows with specific airlines\n",
    "airlines = ['Southwest', 'Virgin America', 'US Airways']\n",
    "filtered_df = tweetsDf[tweetsDf['airline'].isin(airlines)]\n",
    "\n",
    "# create a figure with one subplot for each airline\n",
    "fig, axs = plt.subplots(1, len(airlines), figsize=(8 * len(airlines), 8))\n",
    "\n",
    "# adjust spacing between subplots\n",
    "fig.subplots_adjust(wspace=0.5)\n",
    "\n",
    "# create a pie chart for each airline\n",
    "for i, airline in enumerate(airlines):\n",
    "    # filter data for the current airline\n",
    "    airline_data = filtered_df[filtered_df['airline'] == airline]\n",
    "    \n",
    "    # group by negativereason\n",
    "    grouped_data = airline_data.groupby('negativereason').size()\n",
    "    \n",
    "    # plot pie chart\n",
    "    axs[i].pie(grouped_data, labels=grouped_data.index, autopct='%1.1f%%')\n",
    "    axs[i].set_title(f'Distribution of negative reasons for {airline}')\n",
    "\n",
    "plt.show()"
   ]
  },
  {
   "cell_type": "code",
   "execution_count": null,
   "metadata": {},
   "outputs": [],
   "source": [
    "# create pivot table\n",
    "pivot_table = tweetsDf.pivot_table(index='airline', columns='negativereason', values='negativereason_confidence')\n",
    "\n",
    "# create heatmap\n",
    "sns.heatmap(pivot_table, cmap='coolwarm', annot=True, fmt='.2f', linewidths=.5)\n",
    "\n",
    "# set plot title and axis labels\n",
    "plt.title('Airline Sentiment by Negative Reason')\n",
    "plt.xlabel('Negative Reason')\n",
    "plt.ylabel('Airline')\n",
    "plt.show()"
   ]
  },
  {
   "attachments": {},
   "cell_type": "markdown",
   "metadata": {},
   "source": [
    "# K-Means ALG has been choosen!\n",
    "\n",
    "After using K-means clustering, we can use the cluster labels assigned to each data point to make predictions. For example, if we have a new data point and you want to predict which cluster it belongs to, we can use the K-means model to predict its cluster label based on its features.\n",
    "\n",
    "Regarding our data, since we have already stripped out the positive and neutral sentiments and only have negative sentiments along with their reasons and confidence scores, we can use this data to perform K-means clustering. We can treat each negative reason as a feature, and each row in our data as a data point with a corresponding confidence score. We can then perform K-means clustering on this data to identify common negative reasons in the airline industry and their likelihood of occurring again based on the confidence scores.\n"
   ]
  },
  {
   "cell_type": "code",
   "execution_count": 41,
   "metadata": {},
   "outputs": [
    {
     "name": "stderr",
     "output_type": "stream",
     "text": [
      "C:\\Users\\pdmil\\AppData\\Local\\Temp\\ipykernel_11352\\3725332114.py:3: SettingWithCopyWarning: \n",
      "A value is trying to be set on a copy of a slice from a DataFrame.\n",
      "Try using .loc[row_indexer,col_indexer] = value instead\n",
      "\n",
      "See the caveats in the documentation: https://pandas.pydata.org/pandas-docs/stable/user_guide/indexing.html#returning-a-view-versus-a-copy\n",
      "  X.loc[:, 'negativereason_confidence'] = tweetsDf['negativereason_confidence'].median()\n",
      "c:\\Users\\pdmil\\AppData\\Local\\Programs\\Python\\Python311\\Lib\\site-packages\\sklearn\\cluster\\_kmeans.py:870: FutureWarning: The default value of `n_init` will change from 10 to 'auto' in 1.4. Set the value of `n_init` explicitly to suppress the warning\n",
      "  warnings.warn(\n"
     ]
    },
    {
     "data": {
      "image/png": "[encoded data removed]",
      "text/plain": [
       "<Figure size 640x480 with 1 Axes>"
      ]
     },
     "metadata": {},
     "output_type": "display_data"
    }
   ],
   "source": [
    "# Select the relevant features for clustering\n",
    "X = tweetsDf[['airline_sentiment_confidence']]\n",
    "X.loc[:, 'negativereason_confidence'] = tweetsDf['negativereason_confidence'].median()\n",
    "\n",
    "# Scale the features using StandardScaler\n",
    "from sklearn.preprocessing import StandardScaler\n",
    "scaler = StandardScaler()\n",
    "X_scaled = scaler.fit_transform(X)\n",
    "\n",
    "# Perform KMeans clustering with 3 clusters\n",
    "from sklearn.cluster import KMeans\n",
    "kmeans = KMeans(n_clusters=3)\n",
    "kmeans.fit(X_scaled)\n",
    "\n",
    "# Visualize the results using a scatterplot\n",
    "import matplotlib.pyplot as plt\n",
    "import seaborn as sns\n",
    "\n",
    "# Add cluster assignments to the dataframe\n",
    "tweetsDf['cluster'] = kmeans.labels_\n",
    "\n",
    "# Plot the clusters\n",
    "sns.scatterplot(x='airline_sentiment_confidence', y='negativereason_confidence', hue='cluster', data=tweetsDf)\n",
    "plt.legend(loc='center left', bbox_to_anchor=(1, 0.5), fontsize=10)\n",
    "plt.show()\n"
   ]
  },
  {
   "cell_type": "code",
   "execution_count": 35,
   "metadata": {},
   "outputs": [
    {
     "data": {
      "text/plain": [
       "0.8186956029225846"
      ]
     },
     "execution_count": 35,
     "metadata": {},
     "output_type": "execute_result"
    }
   ],
   "source": [
    "from sklearn.model_selection import train_test_split\n",
    "\n",
    "# Select the features you want to use for clustering\n",
    "X = tweetsDf[['airline_sentiment_confidence', 'negativereason_confidence']]\n",
    "\n",
    "# Scale the features\n",
    "from sklearn.preprocessing import StandardScaler\n",
    "scaler = StandardScaler()\n",
    "X_scaled = scaler.fit_transform(X)\n",
    "\n",
    "# Split the data into training and test sets\n",
    "X_train, X_test = train_test_split(X_scaled, test_size=0.2, random_state=42)\n",
    "\n",
    "# Fit the KMeans model to the training data\n",
    "kmeans = KMeans(n_clusters=3, n_init=10)\n",
    "kmeans.fit(X_train)\n",
    "\n",
    "# Predict the clusters for the test data\n",
    "test_clusters = kmeans.predict(X_test)\n",
    "\n",
    "# Evaluate the clustering performance using a metric such as silhouette score\n",
    "from sklearn.metrics import silhouette_score\n",
    "silhouette_score(X_test, test_clusters)\n",
    "\n",
    "'''\n",
    "the number generated below basically says that the k-means clustering alg ID the correct cluster \n",
    "82% of the time.\n",
    "'''"
   ]
  },
  {
   "cell_type": "code",
   "execution_count": 40,
   "metadata": {},
   "outputs": [
    {
     "name": "stdout",
     "output_type": "stream",
     "text": [
      "Training f1 score: 0.5529365392195507\n",
      "Training accuracy: 0.3821093920244062\n"
     ]
    }
   ],
   "source": [
    "import pandas as pd\n",
    "from sklearn.svm import OneClassSVM\n",
    "from sklearn.feature_extraction.text import TfidfVectorizer\n",
    "from sklearn.metrics import f1_score, accuracy_score\n",
    "\n",
    "# Load the dataset\n",
    "tweetsDf= pd.read_csv('Tweets.csv')\n",
    "\n",
    "# Filter out positive and neutral tweets\n",
    "tweetsDf = tweetsDf[tweetsDf['airline_sentiment'] == 'negative']\n",
    "\n",
    "# Extract the text data\n",
    "text_data = tweetsDf['negativereason']\n",
    "\n",
    "# Convert the tweets into numerical features using TfidfVectorizer\n",
    "vectorizer = TfidfVectorizer(stop_words='english')\n",
    "X = vectorizer.fit_transform(text_data)\n",
    "\n",
    "# Train a one-class SVM model\n",
    "clf = OneClassSVM()\n",
    "clf.fit(X)\n",
    "\n",
    "# Make predictions on the training set\n",
    "y_pred_train = clf.predict(X)\n",
    "\n",
    "# Compute the f1 score and accuracy on the training set\n",
    "f1_train = f1_score([-1] * len(X.toarray()), y_pred_train, pos_label=-1)\n",
    "acc_train = accuracy_score([-1] * len(X.toarray()), y_pred_train)\n",
    "\n",
    "print('Training f1 score:', f1_train)\n",
    "print('Training accuracy:', acc_train)\n"
   ]
  }
 ],
 "metadata": {
  "kernelspec": {
   "display_name": "Python 3 (ipykernel)",
   "language": "python",
   "name": "python3"
  },
  "language_info": {
   "codemirror_mode": {
    "name": "ipython",
    "version": 3
   },
   "file_extension": ".py",
   "mimetype": "text/x-python",
   "name": "python",
   "nbconvert_exporter": "python",
   "pygments_lexer": "ipython3",
   "version": "3.11.1"
  }
 },
 "nbformat": 4,
 "nbformat_minor": 2
}
