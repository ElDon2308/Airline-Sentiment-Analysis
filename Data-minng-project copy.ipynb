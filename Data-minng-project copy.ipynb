{
 "cells": [
  {
   "cell_type": "code",
   "execution_count": null,
   "metadata": {},
   "outputs": [],
   "source": [
    "#importing the needed libraries\n",
    "\n",
    "%matplotlib inline\n",
    "import numpy as np\n",
    "import pandas as pd\n",
    "import matplotlib.pyplot as plt\n",
    "import seaborn as sns\n"
   ]
  },
  {
   "cell_type": "code",
   "execution_count": null,
   "metadata": {},
   "outputs": [],
   "source": [
    "#reading/opening the csv file so work can be done on it\n",
    "tweetsDf= pd.read_csv('Tweets.csv')"
   ]
  },
  {
   "cell_type": "code",
   "execution_count": null,
   "metadata": {},
   "outputs": [],
   "source": [
    "#shows all the columns in the data pre pre data cleaning\n",
    "tweetsDf.columns"
   ]
  },
  {
   "cell_type": "code",
   "execution_count": null,
   "metadata": {},
   "outputs": [],
   "source": [
    "#shows the first five rows of the untouched data\n",
    "tweetsDf.head()"
   ]
  },
  {
   "cell_type": "code",
   "execution_count": null,
   "metadata": {},
   "outputs": [],
   "source": [
    "#We are now filtering the data and selecting the 'airline_sentiment' columns and getting the unique counts for each sentiment\n",
    "negativeReason = tweetsDf['airline_sentiment'].value_counts()\n",
    "#plotting the histogram\n",
    "negativeReason.plot(kind='bar')\n",
    "#Giving it a title\n",
    "plt.title('Flight sentiments')\n",
    "#label for the x-axis\n",
    "plt.xlabel('How was the flight?')\n",
    "#label for the y axis\n",
    "plt.ylabel('Number of Tweets')\n",
    "#Showing the plotted graph\n",
    "plt.show()"
   ]
  },
  {
   "cell_type": "code",
   "execution_count": null,
   "metadata": {},
   "outputs": [],
   "source": [
    "#selecting ONLY the negative sentiments by airline\n",
    "tweetsDf=tweetsDf[tweetsDf['airline_sentiment']== 'negative']"
   ]
  },
  {
   "cell_type": "code",
   "execution_count": null,
   "metadata": {},
   "outputs": [],
   "source": [
    "#grouping the alines and their sentiments and t and visualizing them\n",
    "grouped = tweetsDf.groupby(['airline', 'airline_sentiment']).size().unstack()\n",
    "\n",
    "fig = plt.figure(figsize = (20,40))\n",
    "grouped.plot(kind='bar', stacked=True)\n",
    "plt.title('Airline Sentiment by Airline')\n",
    "plt.xlabel('Airline')\n",
    "plt.ylabel('Number of Tweets')\n",
    "plt.show()"
   ]
  },
  {
   "cell_type": "code",
   "execution_count": null,
   "metadata": {},
   "outputs": [],
   "source": [
    "# group data by negative reason and compute median confidence\n",
    "grouped_data = tweetsDf.groupby('negativereason')['negativereason_confidence'].median()\n",
    "\n",
    "# create scatter plot\n",
    "plt.scatter(grouped_data.index, grouped_data, c='red')\n",
    "plt.xticks(rotation=90)\n",
    "plt.xlabel('Negative Reason')\n",
    "plt.ylabel('Mean Confidence')\n",
    "plt.title('Negative Reasons vs Mean Confidence')\n",
    "plt.show()"
   ]
  },
  {
   "cell_type": "code",
   "execution_count": null,
   "metadata": {},
   "outputs": [],
   "source": [
    "tweetsDf = tweetsDf.drop('airline_sentiment_gold', axis =1)\n",
    "tweetsDf = tweetsDf.drop('name', axis =1)\n",
    "tweetsDf = tweetsDf.drop('negativereason_gold', axis =1)\n",
    "tweetsDf = tweetsDf.drop('retweet_count', axis =1)\n",
    "tweetsDf = tweetsDf.drop('text', axis =1)\n",
    "tweetsDf = tweetsDf.drop('tweet_coord', axis =1)\n",
    "tweetsDf = tweetsDf.drop('tweet_created', axis =1)\n",
    "tweetsDf = tweetsDf.drop('tweet_location', axis =1)\n",
    "tweetsDf = tweetsDf.drop('user_timezone', axis =1)\n",
    "tweetsDf = tweetsDf.drop('tweet_id', axis =1)"
   ]
  },
  {
   "cell_type": "code",
   "execution_count": null,
   "metadata": {},
   "outputs": [],
   "source": [
    "mask = tweetsDf['negativereason'].str.contains(\"Can't Tell\", na=False)\n",
    "print(len(tweetsDf[mask]), 'rows dropped')\n",
    "tweetsDf = tweetsDf.drop(tweetsDf[mask].index)"
   ]
  },
  {
   "cell_type": "code",
<<<<<<< HEAD
   "execution_count": null,
   "metadata": {},
   "outputs": [],
=======
   "execution_count": 11,
   "metadata": {},
   "outputs": [
    {
     "data": {
      "text/html": [
       "<div>\n",
       "<style scoped>\n",
       "    .dataframe tbody tr th:only-of-type {\n",
       "        vertical-align: middle;\n",
       "    }\n",
       "\n",
       "    .dataframe tbody tr th {\n",
       "        vertical-align: top;\n",
       "    }\n",
       "\n",
       "    .dataframe thead th {\n",
       "        text-align: right;\n",
       "    }\n",
       "</style>\n",
       "<table border=\"1\" class=\"dataframe\">\n",
       "  <thead>\n",
       "    <tr style=\"text-align: right;\">\n",
       "      <th></th>\n",
       "      <th>airline_sentiment</th>\n",
       "      <th>airline_sentiment_confidence</th>\n",
       "      <th>negativereason</th>\n",
       "      <th>negativereason_confidence</th>\n",
       "      <th>airline</th>\n",
       "    </tr>\n",
       "  </thead>\n",
       "  <tbody>\n",
       "    <tr>\n",
       "      <th>3</th>\n",
       "      <td>negative</td>\n",
       "      <td>1.0000</td>\n",
       "      <td>Bad Flight</td>\n",
       "      <td>0.7033</td>\n",
       "      <td>Virgin America</td>\n",
       "    </tr>\n",
       "    <tr>\n",
       "      <th>15</th>\n",
       "      <td>negative</td>\n",
       "      <td>0.6842</td>\n",
       "      <td>Late Flight</td>\n",
       "      <td>0.3684</td>\n",
       "      <td>Virgin America</td>\n",
       "    </tr>\n",
       "    <tr>\n",
       "      <th>17</th>\n",
       "      <td>negative</td>\n",
       "      <td>1.0000</td>\n",
       "      <td>Bad Flight</td>\n",
       "      <td>1.0000</td>\n",
       "      <td>Virgin America</td>\n",
       "    </tr>\n",
       "    <tr>\n",
       "      <th>24</th>\n",
       "      <td>negative</td>\n",
       "      <td>1.0000</td>\n",
       "      <td>Customer Service Issue</td>\n",
       "      <td>0.3557</td>\n",
       "      <td>Virgin America</td>\n",
       "    </tr>\n",
       "    <tr>\n",
       "      <th>25</th>\n",
       "      <td>negative</td>\n",
       "      <td>1.0000</td>\n",
       "      <td>Customer Service Issue</td>\n",
       "      <td>1.0000</td>\n",
       "      <td>Virgin America</td>\n",
       "    </tr>\n",
       "    <tr>\n",
       "      <th>28</th>\n",
       "      <td>negative</td>\n",
       "      <td>1.0000</td>\n",
       "      <td>Bad Flight</td>\n",
       "      <td>1.0000</td>\n",
       "      <td>Virgin America</td>\n",
       "    </tr>\n",
       "    <tr>\n",
       "      <th>30</th>\n",
       "      <td>negative</td>\n",
       "      <td>1.0000</td>\n",
       "      <td>Flight Booking Problems</td>\n",
       "      <td>1.0000</td>\n",
       "      <td>Virgin America</td>\n",
       "    </tr>\n",
       "    <tr>\n",
       "      <th>32</th>\n",
       "      <td>negative</td>\n",
       "      <td>1.0000</td>\n",
       "      <td>Customer Service Issue</td>\n",
       "      <td>1.0000</td>\n",
       "      <td>Virgin America</td>\n",
       "    </tr>\n",
       "    <tr>\n",
       "      <th>33</th>\n",
       "      <td>negative</td>\n",
       "      <td>1.0000</td>\n",
       "      <td>Customer Service Issue</td>\n",
       "      <td>1.0000</td>\n",
       "      <td>Virgin America</td>\n",
       "    </tr>\n",
       "    <tr>\n",
       "      <th>39</th>\n",
       "      <td>negative</td>\n",
       "      <td>1.0000</td>\n",
       "      <td>Customer Service Issue</td>\n",
       "      <td>1.0000</td>\n",
       "      <td>Virgin America</td>\n",
       "    </tr>\n",
       "  </tbody>\n",
       "</table>\n",
       "</div>"
      ],
      "text/plain": [
       "   airline_sentiment  airline_sentiment_confidence           negativereason  \\\n",
       "3           negative                        1.0000               Bad Flight   \n",
       "15          negative                        0.6842              Late Flight   \n",
       "17          negative                        1.0000               Bad Flight   \n",
       "24          negative                        1.0000   Customer Service Issue   \n",
       "25          negative                        1.0000   Customer Service Issue   \n",
       "28          negative                        1.0000               Bad Flight   \n",
       "30          negative                        1.0000  Flight Booking Problems   \n",
       "32          negative                        1.0000   Customer Service Issue   \n",
       "33          negative                        1.0000   Customer Service Issue   \n",
       "39          negative                        1.0000   Customer Service Issue   \n",
       "\n",
       "    negativereason_confidence         airline  \n",
       "3                      0.7033  Virgin America  \n",
       "15                     0.3684  Virgin America  \n",
       "17                     1.0000  Virgin America  \n",
       "24                     0.3557  Virgin America  \n",
       "25                     1.0000  Virgin America  \n",
       "28                     1.0000  Virgin America  \n",
       "30                     1.0000  Virgin America  \n",
       "32                     1.0000  Virgin America  \n",
       "33                     1.0000  Virgin America  \n",
       "39                     1.0000  Virgin America  "
      ]
     },
     "execution_count": 11,
     "metadata": {},
     "output_type": "execute_result"
    }
   ],
>>>>>>> 10d7b18640523b749fdc5e1f6e48e5f0f7f67558
   "source": [
    "tweetsDf.head(10)"
   ]
  },
  {
   "cell_type": "code",
<<<<<<< HEAD
   "execution_count": null,
=======
   "execution_count": 12,
>>>>>>> 10d7b18640523b749fdc5e1f6e48e5f0f7f67558
   "metadata": {},
   "outputs": [],
   "source": [
    "print(tweetsDf.isnull().sum())\n",
    "\n",
    "# Check for empty spaces\n",
    "for col in tweetsDf.columns:\n",
    "    if tweetsDf[col].dtype == object:\n",
    "        print(f\"{col}: {tweetsDf[col].str.isspace().sum()}\")"
   ]
  },
  {
   "cell_type": "code",
<<<<<<< HEAD
   "execution_count": null,
=======
   "execution_count": 13,
>>>>>>> 10d7b18640523b749fdc5e1f6e48e5f0f7f67558
   "metadata": {},
   "outputs": [],
   "source": [
    "bin = [0, 0.2, 0.4, 0.6, 0.9, 1]\n",
    "\n",
    "tweetsDf['Airline_Conf_Bucket']= pd.cut(tweetsDf['airline_sentiment_confidence'], bin)\n",
    "\n",
    "print('Airline_Conf_Bucket:\\n',(tweetsDf['Airline_Conf_Bucket']).head())"
   ]
  },
  {
   "cell_type": "code",
<<<<<<< HEAD
   "execution_count": null,
=======
   "execution_count": 14,
>>>>>>> 10d7b18640523b749fdc5e1f6e48e5f0f7f67558
   "metadata": {},
   "outputs": [],
   "source": [
    "bin = [0, 0.1, 0.2, 0.3, 0.4, 0.5, 0.6, 0.7, 0.8, 0.9, 1]\n",
    "\n",
    "tweetsDf['NegReason_Conf_Bucket']= pd.cut(tweetsDf['negativereason_confidence'], bin)\n",
    "\n",
    "print('NegReason_Conf_Bucket:\\n',(tweetsDf['NegReason_Conf_Bucket']).head())"
   ]
  },
  {
   "cell_type": "code",
<<<<<<< HEAD
   "execution_count": null,
=======
   "execution_count": 15,
>>>>>>> 10d7b18640523b749fdc5e1f6e48e5f0f7f67558
   "metadata": {},
   "outputs": [],
   "source": [
    "# group data by negative reason and compute median confidence(Post Col drops)\n",
    "grouped_data = tweetsDf.groupby('negativereason')['negativereason_confidence'].median()\n",
    "\n",
    "# create scatter plot\n",
    "plt.scatter(grouped_data.index, grouped_data, c='red')\n",
    "plt.xticks(rotation=90)\n",
    "plt.xlabel('Negative Reason')\n",
    "plt.ylabel('Mean Confidence')\n",
    "plt.title('Negative Reasons vs Mean Confidence')\n",
    "plt.show()"
   ]
  },
  {
   "cell_type": "code",
<<<<<<< HEAD
   "execution_count": null,
=======
   "execution_count": 16,
>>>>>>> 10d7b18640523b749fdc5e1f6e48e5f0f7f67558
   "metadata": {},
   "outputs": [],
   "source": [
    "tweetsDf=tweetsDf[tweetsDf['airline_sentiment_confidence'] > .5]\n",
    "grouped= tweetsDf.groupby(['airline','airline_sentiment' ]).size().unstack()\n",
    "\n",
    "fig = plt.figure(figsize = (20,40))\n",
    "grouped.plot(kind='bar', stacked=False,)\n",
    "plt.title('Airline Sentiment Confidence by Airline')\n",
    "plt.xlabel('Airline')\n",
    "plt.ylabel('Confidence Value')\n",
    "plt.show()"
   ]
  },
  {
   "cell_type": "code",
<<<<<<< HEAD
   "execution_count": null,
=======
   "execution_count": 17,
>>>>>>> 10d7b18640523b749fdc5e1f6e48e5f0f7f67558
   "metadata": {},
   "outputs": [],
   "source": [
    "tweetsDf=tweetsDf[tweetsDf['negativereason_confidence'] > .5]\n",
    "grouped= tweetsDf.groupby(['airline','negativereason' ]).size().unstack()\n",
    "\n",
    "fig = plt.figure(figsize = (20,40))\n",
    "grouped.plot(kind='bar', stacked=False)\n",
    "plt.legend(loc='center left', bbox_to_anchor=(1, 0.5),fontsize=10)\n",
    "plt.title('Tweet Sentiment Confidence by Airline')\n",
    "plt.xlabel('Airline')\n",
    "plt.ylabel('Confidence Value')\n",
    "plt.show()"
   ]
  },
  {
   "attachments": {},
   "cell_type": "markdown",
   "metadata": {},
   "source": [
    "4. start presentation work\n",
    "5.go straight into alg (TBD)"
   ]
  },
  {
   "cell_type": "code",
<<<<<<< HEAD
   "execution_count": null,
=======
   "execution_count": 18,
>>>>>>> 10d7b18640523b749fdc5e1f6e48e5f0f7f67558
   "metadata": {},
   "outputs": [],
   "source": [
    "# filter dataframe to only include rows with specific airlines\n",
    "airlines = ['Delta', 'United', 'American']\n",
    "filtered_df = tweetsDf[tweetsDf['airline'].isin(airlines)]\n",
    "\n",
    "# create a figure with one subplot for each airline\n",
    "fig, axs = plt.subplots(1, len(airlines), figsize=(8 * len(airlines), 8))\n",
    "\n",
    "# adjust spacing between subplots\n",
    "fig.subplots_adjust(wspace=0.5)\n",
    "\n",
    "# create a pie chart for each airline\n",
    "for i, airline in enumerate(airlines):\n",
    "    # filter data for the current airline\n",
    "    airline_data = filtered_df[filtered_df['airline'] == airline]\n",
    "    \n",
    "    # group by negativereason\n",
    "    grouped_data = airline_data.groupby('negativereason').size()\n",
    "    \n",
    "    # plot pie chart\n",
    "    axs[i].pie(grouped_data, labels=grouped_data.index, autopct='%1.1f%%')\n",
    "    axs[i].set_title(f'Distribution of negative reasons for {airline}')\n",
    "\n",
    "plt.show()"
   ]
  },
  {
   "cell_type": "code",
<<<<<<< HEAD
   "execution_count": null,
=======
   "execution_count": 19,
>>>>>>> 10d7b18640523b749fdc5e1f6e48e5f0f7f67558
   "metadata": {},
   "outputs": [],
   "source": [
    "# filter dataframe to only include rows with specific airlines\n",
    "airlines = ['Southwest', 'Virgin America', 'US Airways']\n",
    "filtered_df = tweetsDf[tweetsDf['airline'].isin(airlines)]\n",
    "\n",
    "# create a figure with one subplot for each airline\n",
    "fig, axs = plt.subplots(1, len(airlines), figsize=(8 * len(airlines), 8))\n",
    "\n",
    "# adjust spacing between subplots\n",
    "fig.subplots_adjust(wspace=0.5)\n",
    "\n",
    "# create a pie chart for each airline\n",
    "for i, airline in enumerate(airlines):\n",
    "    # filter data for the current airline\n",
    "    airline_data = filtered_df[filtered_df['airline'] == airline]\n",
    "    \n",
    "    # group by negativereason\n",
    "    grouped_data = airline_data.groupby('negativereason').size()\n",
    "    \n",
    "    # plot pie chart\n",
    "    axs[i].pie(grouped_data, labels=grouped_data.index, autopct='%1.1f%%')\n",
    "    axs[i].set_title(f'Distribution of negative reasons for {airline}')\n",
    "\n",
    "plt.show()"
   ]
  },
  {
   "cell_type": "code",
<<<<<<< HEAD
   "execution_count": null,
=======
   "execution_count": 20,
>>>>>>> 10d7b18640523b749fdc5e1f6e48e5f0f7f67558
   "metadata": {},
   "outputs": [],
   "source": [
    "# create pivot table\n",
    "pivot_table = tweetsDf.pivot_table(index='airline', columns='negativereason', values='negativereason_confidence')\n",
    "\n",
    "# create heatmap\n",
    "sns.heatmap(pivot_table, cmap='coolwarm', annot=True, fmt='.2f', linewidths=.5)\n",
    "\n",
    "# set plot title and axis labels\n",
    "plt.title('Airline Sentiment by Negative Reason')\n",
    "plt.xlabel('Negative Reason')\n",
    "plt.ylabel('Airline')\n",
    "plt.show()"
   ]
  },
  {
   "attachments": {},
   "cell_type": "markdown",
   "metadata": {},
   "source": [
    "# K-Means ALG has been choosen!\n",
    "\n",
    "After using K-means clustering, we can use the cluster labels assigned to each data point to make predictions. For example, if we have a new data point and you want to predict which cluster it belongs to, we can use the K-means model to predict its cluster label based on its features.\n",
    "\n",
    "Regarding our data, since we have already stripped out the positive and neutral sentiments and only have negative sentiments along with their reasons and confidence scores, we can use this data to perform K-means clustering. We can treat each negative reason as a feature, and each row in our data as a data point with a corresponding confidence score. We can then perform K-means clustering on this data to identify common negative reasons in the airline industry and their likelihood of occurring again based on the confidence scores.\n"
   ]
  },
  {
   "cell_type": "code",
<<<<<<< HEAD
   "execution_count": 41,
=======
   "execution_count": 21,
>>>>>>> 10d7b18640523b749fdc5e1f6e48e5f0f7f67558
   "metadata": {},
   "outputs": [
    {
     "name": "stderr",
     "output_type": "stream",
     "text": [
      "C:\\Users\\pdmil\\AppData\\Local\\Temp\\ipykernel_11352\\3725332114.py:3: SettingWithCopyWarning: \n",
      "A value is trying to be set on a copy of a slice from a DataFrame.\n",
      "Try using .loc[row_indexer,col_indexer] = value instead\n",
      "\n",
      "See the caveats in the documentation: https://pandas.pydata.org/pandas-docs/stable/user_guide/indexing.html#returning-a-view-versus-a-copy\n",
      "  X.loc[:, 'negativereason_confidence'] = tweetsDf['negativereason_confidence'].median()\n",
      "c:\\Users\\pdmil\\AppData\\Local\\Programs\\Python\\Python311\\Lib\\site-packages\\sklearn\\cluster\\_kmeans.py:870: FutureWarning: The default value of `n_init` will change from 10 to 'auto' in 1.4. Set the value of `n_init` explicitly to suppress the warning\n",
      "  warnings.warn(\n"
     ]
    },
    {
     "data": {
<<<<<<< HEAD
      "image/png": "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",
=======
      "image/png": "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\n",
>>>>>>> 10d7b18640523b749fdc5e1f6e48e5f0f7f67558
      "text/plain": [
       "<Figure size 640x480 with 1 Axes>"
      ]
     },
     "metadata": {},
     "output_type": "display_data"
    }
   ],
   "source": [
<<<<<<< HEAD
    "# Select the relevant features for clustering\n",
    "X = tweetsDf[['airline_sentiment_confidence']]\n",
    "X.loc[:, 'negativereason_confidence'] = tweetsDf['negativereason_confidence'].median()\n",
=======
    "#X = tweetsDf[['airline_sentiment', 'airline_sentiment_confidence']]\n",
    "#X = pd.get_dummies(X, columns=['airline_sentiment'])\n",
    "\n",
    "X = tweetsDf[['negativereason_confidence', 'airline_sentiment_confidence']]\n",
    "\n",
    "X = pd.get_dummies(X, columns=['negativereason_confidence'])\n",
>>>>>>> 10d7b18640523b749fdc5e1f6e48e5f0f7f67558
    "\n",
    "# Scale the features using StandardScaler\n",
    "from sklearn.preprocessing import StandardScaler\n",
    "scaler = StandardScaler()\n",
    "X_scaled = scaler.fit_transform(X)\n",
    "\n",
    "# Perform KMeans clustering with 3 clusters\n",
    "from sklearn.cluster import KMeans\n",
    "kmeans = KMeans(n_clusters=3)\n",
    "kmeans.fit(X_scaled)\n",
    "\n",
    "# Visualize the results using a scatterplot\n",
    "import matplotlib.pyplot as plt\n",
    "import seaborn as sns\n",
    "\n",
    "# Add cluster assignments to the dataframe\n",
    "tweetsDf['cluster'] = kmeans.labels_\n",
    "\n",
    "# Plot the clusters\n",
    "sns.scatterplot(x='airline_sentiment_confidence', y='negativereason_confidence', hue='cluster', data=tweetsDf)\n",
    "plt.legend(loc='center left', bbox_to_anchor=(1, 0.5), fontsize=10)\n",
    "plt.show()\n"
   ]
  },
  {
   "cell_type": "markdown",
   "metadata": {},
   "source": [
    "Agglomerative Clustering: This is a hierarchical clustering algorithm that iteratively merges the closest pairs of clusters until all the data is in one cluster."
   ]
  },
  {
   "cell_type": "code",
<<<<<<< HEAD
   "execution_count": 35,
=======
   "execution_count": 22,
>>>>>>> 10d7b18640523b749fdc5e1f6e48e5f0f7f67558
   "metadata": {},
   "outputs": [
    {
     "data": {
<<<<<<< HEAD
      "text/plain": [
       "0.8186956029225846"
      ]
     },
     "execution_count": 35,
     "metadata": {},
     "output_type": "execute_result"
    }
   ],
   "source": [
    "from sklearn.model_selection import train_test_split\n",
    "\n",
    "# Select the features you want to use for clustering\n",
    "X = tweetsDf[['airline_sentiment_confidence', 'negativereason_confidence']]\n",
    "\n",
    "# Scale the features\n",
    "from sklearn.preprocessing import StandardScaler\n",
    "scaler = StandardScaler()\n",
    "X_scaled = scaler.fit_transform(X)\n",
    "\n",
    "# Split the data into training and test sets\n",
    "X_train, X_test = train_test_split(X_scaled, test_size=0.2, random_state=42)\n",
    "\n",
    "# Fit the KMeans model to the training data\n",
    "kmeans = KMeans(n_clusters=3, n_init=10)\n",
    "kmeans.fit(X_train)\n",
    "\n",
    "# Predict the clusters for the test data\n",
    "test_clusters = kmeans.predict(X_test)\n",
    "\n",
    "# Evaluate the clustering performance using a metric such as silhouette score\n",
    "from sklearn.metrics import silhouette_score\n",
    "silhouette_score(X_test, test_clusters)\n",
    "\n",
    "'''\n",
    "the number generated below basically says that the k-means clustering alg ID the correct cluster \n",
    "82% of the time.\n",
    "'''"
=======
      "image/png": "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\n",
      "text/plain": [
       "<Figure size 640x480 with 1 Axes>"
      ]
     },
     "metadata": {},
     "output_type": "display_data"
    }
   ],
   "source": [
    "from sklearn.cluster import AgglomerativeClustering\n",
    "\n",
    "agg_clustering = AgglomerativeClustering(n_clusters=3)\n",
    "agg_clustering.fit(X_scaled)\n",
    "\n",
    "tweetsDf['cluster'] = agg_clustering.labels_\n",
    "sns.scatterplot(x='airline_sentiment_confidence', y='negativereason_confidence', hue='cluster', data=tweetsDf)\n",
    "plt.legend(loc='center left', bbox_to_anchor=(1, 0.5),fontsize=10)\n",
    "plt.show()"
   ]
  },
  {
   "cell_type": "markdown",
   "metadata": {},
   "source": [
    "DBSCAN: This is a density-based clustering algorithm that groups together points that are in high-density regions and marks points in low-density regions as noise."
>>>>>>> 10d7b18640523b749fdc5e1f6e48e5f0f7f67558
   ]
  },
  {
   "cell_type": "code",
<<<<<<< HEAD
   "execution_count": 40,
=======
   "execution_count": 23,
   "metadata": {
    "scrolled": false
   },
   "outputs": [
    {
     "data": {
      "image/png": "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\n",
      "text/plain": [
       "<Figure size 640x480 with 1 Axes>"
      ]
     },
     "metadata": {},
     "output_type": "display_data"
    }
   ],
   "source": [
    "from sklearn.cluster import DBSCAN\n",
    "\n",
    "dbscan = DBSCAN(eps=0.5, min_samples=5)\n",
    "dbscan.fit(X_scaled)\n",
    "\n",
    "tweetsDf['cluster'] = dbscan.labels_\n",
    "sns.scatterplot(x='airline_sentiment_confidence', y='negativereason_confidence', hue='cluster', data=tweetsDf)\n",
    "plt.legend(loc='center left', bbox_to_anchor=(1, 0.5),fontsize=10)\n",
    "plt.show()"
   ]
  },
  {
   "cell_type": "markdown",
   "metadata": {},
   "source": [
    "Spectral Clustering: This is a graph-based clustering algorithm that uses the eigenvalues of the graph Laplacian to partition the data into clusters."
   ]
  },
  {
   "cell_type": "markdown",
   "metadata": {},
   "source": [
    "# DID NOT TEST AS YET\n",
    "# I think this code breaks jupiter NB\n",
    "\n",
    "from sklearn.cluster import SpectralClustering\n",
    "\n",
    "spectral_clustering = SpectralClustering(n_clusters=3)\n",
    "spectral_clustering.fit(X_scaled)\n",
    "\n",
    "tweetsDf['cluster'] = spectral_clustering.labels_\n",
    "sns.scatterplot(x='airline_sentiment_confidence', y='negativereason_confidence', hue='cluster', data=tweetsDf)\n",
    "plt.legend(loc='center left', bbox_to_anchor=(1, 0.5),fontsize=10)\n",
    "plt.show()"
   ]
  },
  {
   "cell_type": "markdown",
   "metadata": {},
   "source": [
    "# Tested got error\n",
    "\n",
    "from sklearn.model_selection import train_test_split\n",
    "from sklearn.naive_bayes import GaussianNB\n",
    "from sklearn.metrics import accuracy_score, classification_report\n",
    "\n",
    "# Split the data into training and testing sets\n",
    "X_train, X_test, y_train, y_test = train_test_split(X, y, test_size=0.2, random_state=42)\n",
    "\n",
    "# Train a Gaussian Naive Bayes model\n",
    "gnb = GaussianNB()\n",
    "gnb.fit(X_train, y_train)\n",
    "\n",
    "# Make predictions on the testing set\n",
    "y_pred = gnb.predict(X_test)\n",
    "\n",
    "# Evaluate the model's performance\n",
    "print('Accuracy:', accuracy_score(y_test, y_pred))\n",
    "print('Classification report:', classification_report(y_test, y_pred))"
   ]
  },
  {
   "cell_type": "markdown",
   "metadata": {},
   "source": [
    "# Tested got error\n",
    "\n",
    "from sklearn.model_selection import train_test_split\n",
    "from sklearn.linear_model import Perceptron\n",
    "from sklearn.metrics import accuracy_score, classification_report\n",
    "\n",
    "# Split the data into training and testing sets\n",
    "X_train, X_test, y_train, y_test = train_test_split(X, y, test_size=0.2, random_state=42)\n",
    "\n",
    "# Train a Perceptron model\n",
    "perceptron = Perceptron()\n",
    "perceptron.fit(X_train, y_train)\n",
    "\n",
    "# Make predictions on the testing set\n",
    "y_pred = perceptron.predict(X_test)\n",
    "\n",
    "# Evaluate the model's performance\n",
    "print('Accuracy:', accuracy_score(y_test, y_pred))\n",
    "print('Classification report:', classification_report(y_test, y_pred))"
   ]
  },
  {
   "cell_type": "markdown",
   "metadata": {},
   "source": [
    "# Tested got error\n",
    "\n",
    "\n",
    "from sklearn.model_selection import train_test_split\n",
    "from sklearn.linear_model import LogisticRegression\n",
    "from sklearn.metrics import accuracy_score, classification_report\n",
    "\n",
    "# Split the data into training and testing sets\n",
    "X_train, X_test, y_train, y_test = train_test_split(X, y, test_size=0.2, random_state=42)\n",
    "\n",
    "# Train a logistic regression model\n",
    "logreg = LogisticRegression()\n",
    "logreg.fit(X_train, y_train)\n",
    "\n",
    "# Make predictions on the testing set\n",
    "y_pred = logreg.predict(X_test)\n",
    "\n",
    "# Evaluate the model's performance\n",
    "print('Accuracy:', accuracy_score(y_test, y_pred))\n",
    "print('Classification report:', classification_report(y_test, y_pred))"
   ]
  },
  {
   "cell_type": "code",
   "execution_count": 33,
>>>>>>> 10d7b18640523b749fdc5e1f6e48e5f0f7f67558
   "metadata": {},
   "outputs": [
    {
     "name": "stdout",
     "output_type": "stream",
     "text": [
<<<<<<< HEAD
      "Training f1 score: 0.5529365392195507\n",
      "Training accuracy: 0.3821093920244062\n"
=======
      "Accuracy: 1.0\n",
      "Classification report:               precision    recall  f1-score   support\n",
      "\n",
      "    negative       1.00      1.00      1.00      1317\n",
      "\n",
      "    accuracy                           1.00      1317\n",
      "   macro avg       1.00      1.00      1.00      1317\n",
      "weighted avg       1.00      1.00      1.00      1317\n",
      "\n"
>>>>>>> 10d7b18640523b749fdc5e1f6e48e5f0f7f67558
     ]
    }
   ],
   "source": [
<<<<<<< HEAD
    "import pandas as pd\n",
    "from sklearn.svm import OneClassSVM\n",
    "from sklearn.feature_extraction.text import TfidfVectorizer\n",
    "from sklearn.metrics import f1_score, accuracy_score\n",
    "\n",
    "# Load the dataset\n",
    "tweetsDf= pd.read_csv('Tweets.csv')\n",
    "\n",
    "# Filter out positive and neutral tweets\n",
    "tweetsDf = tweetsDf[tweetsDf['airline_sentiment'] == 'negative']\n",
    "\n",
    "# Extract the text data\n",
    "text_data = tweetsDf['negativereason']\n",
    "\n",
    "# Convert the tweets into numerical features using TfidfVectorizer\n",
    "vectorizer = TfidfVectorizer(stop_words='english')\n",
    "X = vectorizer.fit_transform(text_data)\n",
    "\n",
    "# Train a one-class SVM model\n",
    "clf = OneClassSVM()\n",
    "clf.fit(X)\n",
    "\n",
    "# Make predictions on the training set\n",
    "y_pred_train = clf.predict(X)\n",
    "\n",
    "# Compute the f1 score and accuracy on the training set\n",
    "f1_train = f1_score([-1] * len(X.toarray()), y_pred_train, pos_label=-1)\n",
    "acc_train = accuracy_score([-1] * len(X.toarray()), y_pred_train)\n",
    "\n",
    "print('Training f1 score:', f1_train)\n",
    "print('Training accuracy:', acc_train)\n"
=======
    "from sklearn.model_selection import train_test_split\n",
    "from sklearn.tree import DecisionTreeClassifier\n",
    "from sklearn.metrics import accuracy_score, classification_report\n",
    "\n",
    "# Split the data into training and testing sets\n",
    "X_train, X_test, y_train, y_test = train_test_split(X, y, test_size=0.2, random_state=42)\n",
    "\n",
    "# Train a decision tree model\n",
    "dtc = DecisionTreeClassifier()\n",
    "dtc.fit(X_train, y_train)\n",
    "\n",
    "# Make predictions on the testing set\n",
    "y_pred = dtc.predict(X_test)\n",
    "\n",
    "# Evaluate the model's performance\n",
    "print('Accuracy:', accuracy_score(y_test, y_pred))\n",
    "print('Classification report:', classification_report(y_test, y_pred))"
   ]
  },
  {
   "cell_type": "markdown",
   "metadata": {},
   "source": [
    "# Does not work for now \n",
    "# To add a support vector machine (SVM) to your code, you can use a library such as scikit-learn. Here’s an example of how you can train an SVM classifier on your data using scikit-learn:\n",
    "\n",
    "from sklearn import svm\n",
    "\n",
    "# assuming X is your feature matrix and y is the target variable\n",
    "clf = svm.SVC() # create a SVM classifier\n",
    "clf.fit(X, y) # train the classifier on your data\n",
    "\n",
    "# to make predictions on new data\n",
    "predictions = clf.predict(new_data)\n",
    "#This is just a basic example to show how you can use scikit-learn to train an SVM classifier on your data. You may need to adjust the parameters of the SVM classifier to get the best results for your specific dataset."
   ]
  },
  {
   "cell_type": "code",
   "execution_count": 42,
   "metadata": {},
   "outputs": [
    {
     "name": "stdout",
     "output_type": "stream",
     "text": [
      "Accuracy: 1.0\n",
      "Classification report:               precision    recall  f1-score   support\n",
      "\n",
      "    negative       1.00      1.00      1.00      1317\n",
      "\n",
      "    accuracy                           1.00      1317\n",
      "   macro avg       1.00      1.00      1.00      1317\n",
      "weighted avg       1.00      1.00      1.00      1317\n",
      "\n"
     ]
    }
   ],
   "source": [
    "from sklearn.model_selection import train_test_split\n",
    "from sklearn.naive_bayes import MultinomialNB\n",
    "from sklearn.metrics import accuracy_score, classification_report\n",
    "from sklearn.feature_extraction.text import CountVectorizer, TfidfVectorizer\n",
    "\n",
    "# Convert the tweets into numerical features using CountVectorizer or TfidfVectorizer\n",
    "vectorizer = TfidfVectorizer(stop_words='english')\n",
    "X = vectorizer.fit_transform(tweetsDf['negativereason'])\n",
    "y = tweetsDf['airline_sentiment']\n",
    "\n",
    "# Split the data into training and testing sets\n",
    "X_train, X_test, y_train, y_test = train_test_split(X, y, test_size=0.2, random_state=42)\n",
    "\n",
    "# Train a Multinomial Naive Bayes model\n",
    "mnb = MultinomialNB()\n",
    "mnb.fit(X_train, y_train)\n",
    "\n",
    "# Make predictions on the testing set\n",
    "y_pred = mnb.predict(X_test)\n",
    "\n",
    "# Evaluate the model's performance\n",
    "print('Accuracy:', accuracy_score(y_test, y_pred))\n",
    "print('Classification report:', classification_report(y_test, y_pred))\n",
    "\n",
    "# Classification report, shows precisiom, recall, accuracy, f1\n",
    "# this is all that shows for now "
   ]
  },
  {
   "cell_type": "code",
   "execution_count": 43,
   "metadata": {
    "scrolled": false
   },
   "outputs": [
    {
     "name": "stdout",
     "output_type": "stream",
     "text": [
      "F1 score: 1.0\n",
      "Classification report:               precision    recall  f1-score   support\n",
      "\n",
      "    negative       1.00      1.00      1.00      1317\n",
      "\n",
      "    accuracy                           1.00      1317\n",
      "   macro avg       1.00      1.00      1.00      1317\n",
      "weighted avg       1.00      1.00      1.00      1317\n",
      "\n"
     ]
    }
   ],
   "source": [
    "from sklearn.metrics import accuracy_score, f1_score, classification_report\n",
    "\n",
    "# Make predictions on the testing set\n",
    "y_pred = mnb.predict(X_test)\n",
    "\n",
    "# Evaluate the model's performance\n",
    "#print('Accuracy:', accuracy_score(y_test, y_pred))\n",
    "print('F1 score:', f1_score(y_test, y_pred, average='weighted'))\n",
    "print('Classification report:', classification_report(y_test, y_pred))"
>>>>>>> 10d7b18640523b749fdc5e1f6e48e5f0f7f67558
   ]
  }
 ],
 "metadata": {
  "kernelspec": {
   "display_name": "Python 3 (ipykernel)",
   "language": "python",
   "name": "python3"
  },
  "language_info": {
   "codemirror_mode": {
    "name": "ipython",
    "version": 3
   },
   "file_extension": ".py",
   "mimetype": "text/x-python",
   "name": "python",
   "nbconvert_exporter": "python",
   "pygments_lexer": "ipython3",
   "version": "3.11.1"
  }
 },
 "nbformat": 4,
 "nbformat_minor": 2
}
